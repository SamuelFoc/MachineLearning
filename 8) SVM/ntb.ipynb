{
 "cells": [
  {
   "attachments": {},
   "cell_type": "markdown",
   "metadata": {},
   "source": [
    "## SVM Support Vector Machine\n",
    "\n",
    "In a linear aproach, SVM uses a linear model to find a linear decision boundary (generali Hyperplane) that best separates the data. The best hyperplane is the one that yields the largest separation/margin between both classes. So we choose the hyperplane so that the distance from it to the nearest data point on each side is maximized.<br>\n",
    "<br>\n",
    "<div style=\"display: flex; justify-content: center;\">\n",
    "<img src=\"./images/svm.png\" alt=\"Flower\" style=\"width:500px;\"/></div>\n",
    "\n",
    "As first we should label points from the $\\mathcal{P}$ space above, so that green color corresponds to `1` and blue corresponds to `-1`, in other words:<br>\n",
    "<br> \n",
    "Every point $(x_1, x_2) \\in \\mathcal{P}$ has assigned a value $y\\in\\{-1,1\\}$.\n",
    "<br>\n",
    "$$    \n",
    "Hyperplane = \n",
    "     \\begin{cases}\n",
    "       w\\cdot x_i - b \\geq 1 &\\quad\\text{if}\\quad y_i=1\\\\\n",
    "       w\\cdot x_i - b \\leq -1 &\\quad\\text{if}\\quad y_i=-1\\\\\n",
    "     \\end{cases}\n",
    "$$\n",
    "\n",
    "We are able to rewrite two equations above to only one.\n",
    "\n",
    "$$ y_i(w\\cdot x_i - b) \\geq 1 $$\n",
    "\n",
    "We have to use some sort of cost function to describe the distance between splitting line and nearest points. We can use `Hinge loss`\n",
    "\n",
    "$$    \n",
    "l = \n",
    "     \\begin{cases}\n",
    "       0 &\\quad\\text{if}\\quad y \\cdot (w\\cdot x -b) \\geq 1\\\\\n",
    "       1 - y\\cdot (w\\cdot x -b) &\\quad\\text{otherwise}\\\\\n",
    "     \\end{cases}\n",
    "$$\n",
    "\n",
    "and the final form of cost function will be\n",
    "\n",
    "$$    \n",
    "J = \n",
    "     \\begin{cases}\n",
    "       \\lambda\\lVert w \\rVert^2 &\\quad\\text{if}\\quad y \\cdot y \\cdot (w\\cdot x -b) \\geq 1\\\\\n",
    "       \\lambda\\lVert w \\rVert^2 + 1 - y_i(w\\cdot x_i -b) &\\quad\\text{otherwise}\\\\\n",
    "     \\end{cases}\n",
    "$$\n",
    "\n",
    "Now we want to find the maximum of $J$, so we have to find the gradient of the $J$ with respect to $w$ and $b$.\n",
    "\n",
    "$$    \n",
    "grad(J) = \n",
    "     \\begin{cases}\n",
    "       \\frac{dJ_i}{dw_k} = 2\\lambda w_k, \\frac{dJ_i}{db} = 0 &\\quad\\text{if}\\quad y \\cdot y \\cdot (w\\cdot x -b) \\geq 1\\\\\n",
    "       \\frac{dJ_i}{dw_k} = 2\\lambda w_k - y_i\\cdot x_{ik}, \\frac{dJ_i}{db} = y_i &\\quad\\text{otherwise}\\\\\n",
    "     \\end{cases}\n",
    "$$\n",
    "\n",
    "We can use the $grad(J)$ to implement the gradient descent and find the splitting line."
   ]
  },
  {
   "cell_type": "code",
   "execution_count": 1,
   "metadata": {},
   "outputs": [],
   "source": [
    "import numpy as np\n",
    "\n",
    "class SVM:\n",
    "    def __init__(self, learning_rate = 0.001, lambda_param=0.01, n_iters=1000):\n",
    "        self.lr = learning_rate\n",
    "        self.lambda_param = lambda_param\n",
    "        self.n_iters = n_iters\n",
    "        self.w = None\n",
    "        self.b = None\n",
    "\n",
    "    def fit(self, X, y):\n",
    "        n_samples, n_features = X.shape\n",
    "\n",
    "        y_ = np.where(y <= 0, -1, 1)\n",
    "\n",
    "        self.w = np.zeros(n_features)\n",
    "        self.b = 0\n",
    "\n",
    "        for _ in range(self.n_iters):\n",
    "            for idx, x_i in enumerate(X):\n",
    "                condition = y_[idx] * (np.dot(x_i, self.w) - self.b) >= 1\n",
    "                if condition:\n",
    "                    self.w -= self.lr * (2 * self.lambda_param * self.w)\n",
    "                else:\n",
    "                    self.w -= self.lr * (2 * self.lambda_param * self.w - np.dot(x_i, y_[idx]))\n",
    "                    self.b -= self.lr * y_[idx]\n",
    "\n",
    "\n",
    "    def predict(self, X):\n",
    "        approx = np.dot(X, self.w) - self.b\n",
    "        return np.sign(approx)\n",
    "\n"
   ]
  },
  {
   "cell_type": "code",
   "execution_count": 2,
   "metadata": {},
   "outputs": [],
   "source": [
    "from sklearn.model_selection import train_test_split\n",
    "from sklearn.datasets import make_blobs\n",
    "import matplotlib.pyplot as plt\n",
    "\n",
    "X,y = make_blobs(n_samples=50, n_features=2, centers=2, cluster_std=1.05, random_state=40)\n",
    "y = np.where(y == 0, -1, 1)\n",
    "\n",
    "X_train, X_test, y_train, y_test = train_test_split(X, y, test_size=0.2, random_state=123)\n",
    "\n",
    "clf = SVM()\n",
    "clf.fit(X_train, y_train)\n",
    "\n",
    "predictions = clf.predict(X_test)"
   ]
  },
  {
   "cell_type": "code",
   "execution_count": 14,
   "metadata": {},
   "outputs": [
    {
     "data": {
      "text/html": [
       "<div>\n",
       "<style scoped>\n",
       "    .dataframe tbody tr th:only-of-type {\n",
       "        vertical-align: middle;\n",
       "    }\n",
       "\n",
       "    .dataframe tbody tr th {\n",
       "        vertical-align: top;\n",
       "    }\n",
       "\n",
       "    .dataframe thead th {\n",
       "        text-align: right;\n",
       "    }\n",
       "</style>\n",
       "<table border=\"1\" class=\"dataframe\">\n",
       "  <thead>\n",
       "    <tr style=\"text-align: right;\">\n",
       "      <th></th>\n",
       "      <th>x1</th>\n",
       "      <th>x2</th>\n",
       "      <th>result</th>\n",
       "    </tr>\n",
       "  </thead>\n",
       "  <tbody>\n",
       "    <tr>\n",
       "      <th>0</th>\n",
       "      <td>7.542874</td>\n",
       "      <td>-5.352841</td>\n",
       "      <td>1.0</td>\n",
       "    </tr>\n",
       "    <tr>\n",
       "      <th>1</th>\n",
       "      <td>5.225978</td>\n",
       "      <td>-5.550335</td>\n",
       "      <td>1.0</td>\n",
       "    </tr>\n",
       "    <tr>\n",
       "      <th>2</th>\n",
       "      <td>6.507538</td>\n",
       "      <td>-3.625618</td>\n",
       "      <td>1.0</td>\n",
       "    </tr>\n",
       "    <tr>\n",
       "      <th>3</th>\n",
       "      <td>-3.094421</td>\n",
       "      <td>-9.240961</td>\n",
       "      <td>-1.0</td>\n",
       "    </tr>\n",
       "    <tr>\n",
       "      <th>4</th>\n",
       "      <td>5.673811</td>\n",
       "      <td>-3.339634</td>\n",
       "      <td>1.0</td>\n",
       "    </tr>\n",
       "  </tbody>\n",
       "</table>\n",
       "</div>"
      ],
      "text/plain": [
       "         x1        x2  result\n",
       "0  7.542874 -5.352841     1.0\n",
       "1  5.225978 -5.550335     1.0\n",
       "2  6.507538 -3.625618     1.0\n",
       "3 -3.094421 -9.240961    -1.0\n",
       "4  5.673811 -3.339634     1.0"
      ]
     },
     "execution_count": 14,
     "metadata": {},
     "output_type": "execute_result"
    }
   ],
   "source": [
    "import pandas as pd\n",
    "\n",
    "df = pd.DataFrame(data = X_test, columns=[\"x1\", \"x2\"])\n",
    "df[\"result\"] = predictions\n",
    "df.head()"
   ]
  },
  {
   "cell_type": "code",
   "execution_count": 15,
   "metadata": {},
   "outputs": [],
   "source": [
    "def visualize_svm():\n",
    "        def get_hyperplane_value(x, w, b, offset):\n",
    "            return (-w[0] * x + b + offset) / w[1]\n",
    "\n",
    "        fig = plt.figure()\n",
    "        ax = fig.add_subplot(1, 1, 1)\n",
    "        plt.scatter(X[:, 0], X[:, 1], marker=\"o\", c=y)\n",
    "\n",
    "        x0_1 = np.amin(X[:, 0])\n",
    "        x0_2 = np.amax(X[:, 0])\n",
    "\n",
    "        x1_1 = get_hyperplane_value(x0_1, clf.w, clf.b, 0)\n",
    "        x1_2 = get_hyperplane_value(x0_2, clf.w, clf.b, 0)\n",
    "\n",
    "        x1_1_m = get_hyperplane_value(x0_1, clf.w, clf.b, -1)\n",
    "        x1_2_m = get_hyperplane_value(x0_2, clf.w, clf.b, -1)\n",
    "\n",
    "        x1_1_p = get_hyperplane_value(x0_1, clf.w, clf.b, 1)\n",
    "        x1_2_p = get_hyperplane_value(x0_2, clf.w, clf.b, 1)\n",
    "\n",
    "        ax.plot([x0_1, x0_2], [x1_1, x1_2], \"y--\")\n",
    "        ax.plot([x0_1, x0_2], [x1_1_m, x1_2_m], \"k\")\n",
    "        ax.plot([x0_1, x0_2], [x1_1_p, x1_2_p], \"k\")\n",
    "\n",
    "        x1_min = np.amin(X[:, 1])\n",
    "        x1_max = np.amax(X[:, 1])\n",
    "        ax.set_ylim([x1_min - 3, x1_max + 3])\n",
    "\n",
    "        plt.show()\n"
   ]
  },
  {
   "cell_type": "code",
   "execution_count": 16,
   "metadata": {},
   "outputs": [
    {
     "data": {
      "image/png": "[encoded data removed]",
      "text/plain": [
       "<Figure size 432x288 with 1 Axes>"
      ]
     },
     "metadata": {
      "needs_background": "light"
     },
     "output_type": "display_data"
    }
   ],
   "source": [
    "visualize_svm()"
   ]
  }
 ],
 "metadata": {
  "kernelspec": {
   "display_name": "Python 3",
   "language": "python",
   "name": "python3"
  },
  "language_info": {
   "codemirror_mode": {
    "name": "ipython",
    "version": 3
   },
   "file_extension": ".py",
   "mimetype": "text/x-python",
   "name": "python",
   "nbconvert_exporter": "python",
   "pygments_lexer": "ipython3",
   "version": "3.9.10"
  },
  "orig_nbformat": 4,
  "vscode": {
   "interpreter": {
    "hash": "11938c6bc6919ae2720b4d5011047913343b08a43b18698fd82dedb0d4417594"
   }
  }
 },
 "nbformat": 4,
 "nbformat_minor": 2
}
