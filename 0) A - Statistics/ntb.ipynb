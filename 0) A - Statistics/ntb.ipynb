{
 "cells": [
  {
   "attachments": {},
   "cell_type": "markdown",
   "metadata": {},
   "source": [
    "# Statistics toolbox"
   ]
  },
  {
   "attachments": {},
   "cell_type": "markdown",
   "metadata": {},
   "source": [
    "## Entropy for datascience\n",
    "\n",
    "# Surprise\n",
    "If we want to define how much we will be surprised if some events based on probability occurs how should we dou that? The first logical step is to define it as an inverse of probability of a given event.\n",
    "\n",
    "$$ S = \\frac{1}{P(X)}, $$\n",
    "\n",
    "where $P(X)$ is the probability of the event $X$. But there is a problem with this definition. If there will be a probability $P(X) = 1$ we should't be surprised that this event will occure. But due to given definition the surprise $S = 1$. We can improve the definition by using logarithm.\n",
    "\n",
    "$$ S = \\log(\\frac{1}{P(X)}) $$"
   ]
  },
  {
   "cell_type": "code",
   "execution_count": 4,
   "metadata": {},
   "outputs": [
    {
     "name": "stderr",
     "output_type": "stream",
     "text": [
      "C:\\Users\\ssipikal\\AppData\\Local\\Temp\\ipykernel_5180\\3297161144.py:5: RuntimeWarning: divide by zero encountered in divide\n",
      "  y = np.log(1/x)\n"
     ]
    },
    {
     "data": {
      "image/png": "[encoded data removed]",
      "text/plain": [
       "<Figure size 432x288 with 1 Axes>"
      ]
     },
     "metadata": {
      "needs_background": "light"
     },
     "output_type": "display_data"
    }
   ],
   "source": [
    "import matplotlib.pyplot as plt\n",
    "import numpy as np\n",
    "\n",
    "x = np.linspace(0, 1, num=100)\n",
    "y = np.log(1/x)\n",
    "\n",
    "plt.scatter(x, y)\n",
    "plt.show()"
   ]
  },
  {
   "attachments": {},
   "cell_type": "markdown",
   "metadata": {},
   "source": [
    "## Entropy\n",
    "Entropy is expected value of a surprise. Imagine that we have a coin for which probability of getting head is $P(H) = 0.9$ and probability of getting tail is $P(T) = 0.1$. Let's find the coressponding surprise values using previous mentioned formula.\n",
    "\n",
    "$$ S(H) = \\log(\\frac{1}{P(H)}) = 0.15 \\qquad \\wedge \\qquad S(T) = \\log(\\frac{1}{P(T)}) = 3.32 $$\n",
    "\n",
    "If we want to know the mean surprise that we'll have after few coin flips we have to just multiply each surprise by it's probability and sum up.\n",
    "\n",
    "$$ E = P(H)*S(H) + P(T)*S(T) $$\n",
    "\n",
    "E is the Entropy. Now let's find the general form for n possible results.\n",
    "\n",
    "$$ E = P(H)*S(H) + P(T)*S(T) + \\dots $$\n",
    "$$ E = \\sum P(X)log(\\frac{1}{P(X)}) = \\sum P(X)(log(1) - log(P(X))) = \\sum -P(X)log(P(X)) $$  \n",
    "$$ E = \\sum -P(X)log(P(X)) $$  \n",
    "\n",
    "And that is the general formula for Entropy $E$."
   ]
  }
 ],
 "metadata": {
  "kernelspec": {
   "display_name": "Python 3",
   "language": "python",
   "name": "python3"
  },
  "language_info": {
   "codemirror_mode": {
    "name": "ipython",
    "version": 3
   },
   "file_extension": ".py",
   "mimetype": "text/x-python",
   "name": "python",
   "nbconvert_exporter": "python",
   "pygments_lexer": "ipython3",
   "version": "3.9.10"
  },
  "orig_nbformat": 4,
  "vscode": {
   "interpreter": {
    "hash": "11938c6bc6919ae2720b4d5011047913343b08a43b18698fd82dedb0d4417594"
   }
  }
 },
 "nbformat": 4,
 "nbformat_minor": 2
}
