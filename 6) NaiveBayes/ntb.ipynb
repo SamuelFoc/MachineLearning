{
 "cells": [
  {
   "attachments": {},
   "cell_type": "markdown",
   "metadata": {},
   "source": [
    "## Naive Bayes\n",
    "\n",
    "This algorithm is based on Bayes theorem which can be seen below.\n",
    "\n",
    "$$ P(A|B) = \\frac{P(B|A)P(A)}{P(B)}, $$\n",
    "\n",
    "where\n",
    "\n",
    "- $P(A|B)$ is a conditional probability. The probability of event $A$ occurring given that $B$ is true. It is also called the posterior probability of $A$ given $B$.\n",
    "- $P(A), P(B)$  are the probabilities of observing $A$ and $B$ respectively without any given conditions. They are known as the prior probability and marginal probability."
   ]
  },
  {
   "attachments": {},
   "cell_type": "markdown",
   "metadata": {},
   "source": [
    "### Example\n",
    "\n",
    "Imageine we have two coins. Each one has a $50$% chance that we'll get `Head` and $50$% chance that we'll get `Tail` after flipping the coin.<br>\n",
    "Let's flip the coins and see what are the possible outcomes, or what would be the sample space $\\mathbb{S}$.\n",
    "\n",
    "<div style=\"display: flex; justify-content: center;\">\n",
    "<img src=\"./images/bayes1.png\" alt=\"Flower\" style=\"width:500px;\"/></div>\n",
    "\n",
    "$$ \\mathbb{S} = \\{ HH, HT, TH, TT \\} $$\n",
    "\n",
    "Let $A$ be the event that second coin is `Head` and $B$ be the event that first coin is `Tail`. \n",
    "\n",
    "$$ P(A) = 2/4 = 0.5 $$\n",
    "$$ P(B) = 2/4 = 0.5 $$\n",
    "\n",
    "What is the probability that after first coin being `Tail` the second coin will be `Head`? In this case it is simply 50/50 beacuse after flipping the second coin we can get neither the `Tail` or `Head` and nothing else.\n",
    "\n",
    "$$ P(B|A) = 1/2 = 0.5 $$\n",
    "\n",
    "Using Baye's theorem we get\n",
    "\n",
    "$$ P(A|B) = \\frac{P(B|A)P(A)}{P(B)} = \\frac{0.5 \\cdot 0.5}{0.5} = 0.5 $$\n",
    "\n",
    "Let's try to use this formula in practice. <br>\n",
    "\n",
    "<br>\n",
    "\n",
    "If $X = (x_1, x_2, \\dots, x_n)$ is a features vector, so that all its components are mutualy independent, and $y$ is some state that we cares about, we can rewrite Baye's theorem or `Posterior probability` of event `y` given by state `X` in the folowing form.\n",
    "\n",
    "$$ P(y|X) = \\frac{P(X|y)P(y)}{P(X)} = \\frac{P(x_1|y)\\cdot P(x_2|y) \\cdot \\dots \\cdot P(y)}{P(X)} $$\n",
    "\n",
    "Where $P(y)$ is the prior probability or frequency of particular class(event), and $P(x_i|y)$ is the class conditional probability.\n",
    "\n",
    "$$ P(x_i|y) = \\frac{1}{\\sqrt{2\\pi\\sigma^2_y}}\\cdot\\exp\\left( -\\frac{(x_i - \\mu_y)^2}{2\\sigma_y^2} \\right) (Gaussian distribution)$$\n",
    "\n",
    "Using all of the above we can simply calculate probability of the output `y` under the given conditions `X`."
   ]
  },
  {
   "cell_type": "code",
   "execution_count": 48,
   "metadata": {},
   "outputs": [],
   "source": [
    "import numpy as np\n",
    "\n",
    "class NaiveBayes:\n",
    "    def fit(self, X,y):\n",
    "        # Find the number of features and samples in give data\n",
    "        n_samples, n_features = X.shape\n",
    "        # Find the all possible targets\n",
    "        self._classes = np.unique(y)\n",
    "        n_classes = len(self._classes)\n",
    "\n",
    "        # Calculate mean, var, and prior for each class\n",
    "        self._mean = np.zeros((n_classes, n_features), dtype=np.float64)\n",
    "        self._var = np.zeros((n_classes, n_features), dtype=np.float64)\n",
    "        self._priors = np.zeros(n_classes, dtype=np.float64)\n",
    "\n",
    "        for idx, c in enumerate(self._classes):\n",
    "            # X_c - Get all the rows where y (target value) is equal to c\n",
    "            X_c = X[y == c]\n",
    "            self._mean[idx, :] = X_c.mean(axis=0)\n",
    "            self._var[idx, :] = X_c.var(axis=0) \n",
    "            self._priors[idx] = X_c.shape[0] / float(n_samples)\n",
    "  \n",
    "\n",
    "    def predict(self, X):\n",
    "        y_pred = [self._predict(x) for x in X]\n",
    "        return np.array(y_pred)\n",
    "\n",
    "    def _predict(self, x):\n",
    "        posteriors = []\n",
    "\n",
    "        # Calculate the prosterior probability for each class\n",
    "        for idx, c in enumerate(self._classes):\n",
    "            prior = np.log(self._priors[idx])\n",
    "            posterior = np.sum(np.log(self._pdf(idx, x)))\n",
    "            posterior = posterior + prior\n",
    "            posteriors.append(posterior)\n",
    "\n",
    "        # Return class with the highest posterior\n",
    "        return self._classes[np.argmax(posteriors)]\n",
    "    \n",
    "    def _pdf(self, class_idx, x):\n",
    "        mean = self._mean[class_idx]\n",
    "        var = self._var[class_idx]\n",
    "        numerator = np.exp(-((x - mean) ** 2) / (2 * var))\n",
    "        denominator = np.sqrt(2 * np.pi * var)\n",
    "        return numerator / denominator\n"
   ]
  },
  {
   "attachments": {},
   "cell_type": "markdown",
   "metadata": {},
   "source": [
    "How boolean indexing works in python"
   ]
  },
  {
   "cell_type": "code",
   "execution_count": 49,
   "metadata": {},
   "outputs": [
    {
     "name": "stdout",
     "output_type": "stream",
     "text": [
      "[2 7]\n"
     ]
    }
   ],
   "source": [
    "x = np.array([1,2,3,4,2,6,7,8,7,10])\n",
    "y = np.array([1,2,3,4,5,6,7,8,5,10])\n",
    "c = 5 \n",
    "\n",
    "print(x[y == c])"
   ]
  },
  {
   "attachments": {},
   "cell_type": "markdown",
   "metadata": {},
   "source": [
    "### Random dataset"
   ]
  },
  {
   "cell_type": "code",
   "execution_count": 50,
   "metadata": {},
   "outputs": [],
   "source": [
    "from sklearn.model_selection import train_test_split\n",
    "from sklearn import datasets\n",
    "\n",
    "X,y = datasets.make_classification(n_samples=1000, n_features=5, n_classes=2, random_state=123)\n",
    "X_train, X_test, y_train, y_test = train_test_split(X, y, test_size=0.2, random_state=123)\n",
    "\n",
    "model = NaiveBayes()\n",
    "model.fit(X_train, y_train)"
   ]
  },
  {
   "cell_type": "code",
   "execution_count": 53,
   "metadata": {},
   "outputs": [
    {
     "data": {
      "text/plain": [
       "Text(69.0, 0.5, 'Truth')"
      ]
     },
     "execution_count": 53,
     "metadata": {},
     "output_type": "execute_result"
    },
    {
     "data": {
      "image/png": "[encoded data removed]",
      "text/plain": [
       "<Figure size 720x504 with 2 Axes>"
      ]
     },
     "metadata": {
      "needs_background": "light"
     },
     "output_type": "display_data"
    }
   ],
   "source": [
    "from sklearn.metrics import confusion_matrix\n",
    "import seaborn as sn\n",
    "import matplotlib.pyplot as plt\n",
    "\n",
    "\n",
    "predictions = model.predict(X_test)\n",
    "cm = confusion_matrix(predictions, y_test)\n",
    "\n",
    "plt.figure(figsize=(10,7))\n",
    "sn.heatmap(cm, annot=True)\n",
    "plt.title(\"Confusion matrix\")\n",
    "plt.xlabel(\"Predicted\")\n",
    "plt.ylabel(\"Truth\")\n",
    "\n"
   ]
  }
 ],
 "metadata": {
  "kernelspec": {
   "display_name": "Python 3",
   "language": "python",
   "name": "python3"
  },
  "language_info": {
   "codemirror_mode": {
    "name": "ipython",
    "version": 3
   },
   "file_extension": ".py",
   "mimetype": "text/x-python",
   "name": "python",
   "nbconvert_exporter": "python",
   "pygments_lexer": "ipython3",
   "version": "3.9.10 (tags/v3.9.10:f2f3f53, Jan 17 2022, 15:14:21) [MSC v.1929 64 bit (AMD64)]"
  },
  "orig_nbformat": 4,
  "vscode": {
   "interpreter": {
    "hash": "11938c6bc6919ae2720b4d5011047913343b08a43b18698fd82dedb0d4417594"
   }
  }
 },
 "nbformat": 4,
 "nbformat_minor": 2
}
