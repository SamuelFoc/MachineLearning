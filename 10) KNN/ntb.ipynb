{
 "cells": [
  {
   "attachments": {},
   "cell_type": "markdown",
   "metadata": {},
   "source": [
    "## k-NN (k - Nearest Neighbors)\n",
    "\n",
    "In statistics, the k-nearest neighbors algorithm (k-NN) is a non-parametric supervised learning method first developed by Evelyn Fix and Joseph Hodges in 1951, and later expanded by Thomas Cover. It is used for classification and regression. In both cases, the input consists of the k closest training examples in a data set. The output depends on whether k-NN is used for classification or regression.\n",
    "\n",
    "<div style=\"display: flex; justify-content: center;\">\n",
    "<img src=\"./images/knn.png\" alt=\"plot of a plane\" style=\"width:800px;\"/></div>\n"
   ]
  },
  {
   "attachments": {},
   "cell_type": "markdown",
   "metadata": {},
   "source": [
    "### k-NN Algorithm\n",
    "\n",
    "<div style=\"display: flex; justify-content: center;\">\n",
    "<img src=\"./images/knn2.png\" alt=\"plot of a plane\" style=\"width:700px;\"/></div>\n",
    "\n",
    "- Find the distances $d_i$ from all points around.\n",
    "- Sort the distances from the smallest to the largest.\n",
    "- Pick first $k$ distances from sorted list $(d_1, d_2, \\dots, d_k)$.\n",
    "- Sum up all assigned values from first $k$ points and compute mean value.\n",
    "- Asign mean value to unknown category point."
   ]
  },
  {
   "cell_type": "code",
   "execution_count": 53,
   "metadata": {},
   "outputs": [],
   "source": [
    "import numpy as np\n",
    "\n",
    "def euclidean_distance(x1, x2):\n",
    "    distance = np.sqrt(np.sum((x1 - x2)**2))\n",
    "    return distance\n",
    "\n",
    "def unique(list1):\n",
    "    unique_list = []\n",
    "    for x in list1:\n",
    "        if x not in unique_list:\n",
    "            unique_list.append(x)\n",
    "    return unique_list\n",
    "\n",
    "def nearest_value(array, value):\n",
    "    index = (np.abs(array - value)).argmin()\n",
    "    return array[index]\n",
    "\n",
    "class KNN:\n",
    "    def __init__(self, k):\n",
    "        self.k = k\n",
    "        \n",
    "    def fit(self, x, y):\n",
    "        self.x_train = np.array(x)\n",
    "        self.y_train = np.array(y)\n",
    "\n",
    "    def _predict(self, x):\n",
    "        # Find the distances of given point x from all training points\n",
    "        distances = [euclidean_distance(x, x_train) for x_train in self.x_train]\n",
    "\n",
    "        # Sort the indices of distances by asscend order and pick first k elements\n",
    "        k_indices = np.argsort(distances)[:self.k]\n",
    "        \n",
    "        # Find the assigned value of the k elements\n",
    "        k_assigned_values = [self.y_train[i] for i in k_indices]\n",
    "        print(k_assigned_values)\n",
    "        # Find the mean value and return prediction\n",
    "        common_value = np.bincount(k_assigned_values).argmax()\n",
    "        \n",
    "        # Find the nearest value from assigned values possibilities\n",
    "        unique_values = unique(self.y_train)\n",
    "        value = nearest_value(unique_values, common_value)\n",
    "\n",
    "        return value\n",
    "        \n"
   ]
  },
  {
   "cell_type": "code",
   "execution_count": 58,
   "metadata": {},
   "outputs": [],
   "source": [
    "def create_training_data(size):\n",
    "    x = []\n",
    "    y = []\n",
    "\n",
    "    for i in range(size):\n",
    "        for j in range(size):\n",
    "            if (i > 10 and j > 20):\n",
    "                x.append((i,j))\n",
    "                y.append(1)\n",
    "            elif (i > 30 and j < 6):\n",
    "                x.append((i,j))\n",
    "                y.append(2)\n",
    "            else:\n",
    "                x.append((i,j))\n",
    "                y.append(3)\n",
    "    \n",
    "    return x, y"
   ]
  },
  {
   "cell_type": "code",
   "execution_count": 65,
   "metadata": {},
   "outputs": [],
   "source": [
    "import matplotlib.pyplot as plt\n",
    "\n",
    "# Create training data\n",
    "x, y = create_training_data(30)\n"
   ]
  },
  {
   "cell_type": "code",
   "execution_count": 70,
   "metadata": {},
   "outputs": [
    {
     "name": "stdout",
     "output_type": "stream",
     "text": [
      "[3, 3, 3, 1, 3, 3, 1, 3]\n"
     ]
    }
   ],
   "source": [
    "# Create and train model\n",
    "my_model = KNN(8)\n",
    "my_model.fit(x, y)\n",
    "\n",
    "# Predict value for a given point\n",
    "prediction = my_model._predict((20,20))"
   ]
  },
  {
   "cell_type": "code",
   "execution_count": 71,
   "metadata": {},
   "outputs": [
    {
     "data": {
      "image/png": "[encoded data removed]",
      "text/plain": [
       "<Figure size 432x288 with 1 Axes>"
      ]
     },
     "metadata": {
      "needs_background": "light"
     },
     "output_type": "display_data"
    }
   ],
   "source": [
    "# Plot training data\n",
    "for i in range(len(x)):\n",
    "    color = \"\"\n",
    "    if (y[i] == 1):\n",
    "        color = \"r\"\n",
    "    elif (y[i] == 2):\n",
    "        color = \"g\"\n",
    "    else:\n",
    "        color = \"b\"\n",
    "    plt.scatter(x[i][0], x[i][1], c=color)\n",
    "\n",
    "# Plot prediction\n",
    "plt.scatter(20, 20, c=\"y\")\n",
    "plt.title(f\"Selected point have a predicted value: {prediction}\")\n",
    "plt.show()"
   ]
  }
 ],
 "metadata": {
  "kernelspec": {
   "display_name": "Python 3",
   "language": "python",
   "name": "python3"
  },
  "language_info": {
   "codemirror_mode": {
    "name": "ipython",
    "version": 3
   },
   "file_extension": ".py",
   "mimetype": "text/x-python",
   "name": "python",
   "nbconvert_exporter": "python",
   "pygments_lexer": "ipython3",
   "version": "3.9.10 (tags/v3.9.10:f2f3f53, Jan 17 2022, 15:14:21) [MSC v.1929 64 bit (AMD64)]"
  },
  "orig_nbformat": 4,
  "vscode": {
   "interpreter": {
    "hash": "11938c6bc6919ae2720b4d5011047913343b08a43b18698fd82dedb0d4417594"
   }
  }
 },
 "nbformat": 4,
 "nbformat_minor": 2
}
